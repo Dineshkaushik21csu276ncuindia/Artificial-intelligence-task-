{
 "cells": [
  {
   "cell_type": "code",
   "execution_count": 4,
   "metadata": {},
   "outputs": [],
   "source": [
    "# Import necessary libraries\n",
    "import tkinter as tk\n",
    "from tkinter import ttk, Text, messagebox\n",
    "from googletrans import Translator\n"
   ]
  },
  {
   "cell_type": "code",
   "execution_count": 5,
   "metadata": {},
   "outputs": [],
   "source": [
    "# Initialize Translator and language list\n",
    "language_list = ['en', 'es', 'fr', 'de', 'it', 'pt', 'ru', 'zh-cn']  # Example list\n",
    "translator = Translator()\n"
   ]
  },
  {
   "cell_type": "code",
   "execution_count": 8,
   "metadata": {},
   "outputs": [],
   "source": [
    "# Define the function for translating text\n",
    "def trans_late():\n",
    "    try:\n",
    "        source_text = txt1.get(\"1.0\", tk.END).strip()\n",
    "        src_lang = c1.get()\n",
    "        dest_lang = c2.get()\n",
    "        \n",
    "        if not source_text:\n",
    "            txt2.insert(tk.END, \"Please enter text to translate.\")\n",
    "            return\n",
    "        \n",
    "        if not src_lang or not dest_lang:\n",
    "            txt2.insert(tk.END, \"Please select both source and destination languages.\")\n",
    "            return\n",
    "        \n",
    "        translated = translator.translate(source_text, src=src_lang, dest=dest_lang)\n",
    "        txt2.delete(\"1.0\", tk.END)\n",
    "        txt2.insert(tk.END, translated.text)\n",
    "    except Exception as e:\n",
    "        txt2.delete(\"1.0\", tk.END)\n",
    "        txt2.insert(tk.END, f\"Error: {e}\")\n"
   ]
  },
  {
   "cell_type": "code",
   "execution_count": 9,
   "metadata": {},
   "outputs": [
    {
     "ename": "NameError",
     "evalue": "name 'Label' is not defined",
     "output_type": "error",
     "traceback": [
      "\u001b[1;31m---------------------------------------------------------------------------\u001b[0m",
      "\u001b[1;31mNameError\u001b[0m                                 Traceback (most recent call last)",
      "Cell \u001b[1;32mIn[9], line 8\u001b[0m\n\u001b[0;32m      5\u001b[0m root\u001b[38;5;241m.\u001b[39mconfig(bg\u001b[38;5;241m=\u001b[39m\u001b[38;5;124m'\u001b[39m\u001b[38;5;124m#D3D3D3\u001b[39m\u001b[38;5;124m'\u001b[39m)\n\u001b[0;32m      7\u001b[0m \u001b[38;5;66;03m# Title Label\u001b[39;00m\n\u001b[1;32m----> 8\u001b[0m \u001b[43mLabel\u001b[49m(root, text\u001b[38;5;241m=\u001b[39m\u001b[38;5;124m\"\u001b[39m\u001b[38;5;124mLanguage Translator\u001b[39m\u001b[38;5;124m\"\u001b[39m, font\u001b[38;5;241m=\u001b[39m(\u001b[38;5;124m'\u001b[39m\u001b[38;5;124mArial\u001b[39m\u001b[38;5;124m'\u001b[39m, \u001b[38;5;241m20\u001b[39m, \u001b[38;5;124m'\u001b[39m\u001b[38;5;124mbold\u001b[39m\u001b[38;5;124m'\u001b[39m), bg\u001b[38;5;241m=\u001b[39m\u001b[38;5;124m'\u001b[39m\u001b[38;5;124m#8B8B7A\u001b[39m\u001b[38;5;124m'\u001b[39m, fg\u001b[38;5;241m=\u001b[39m\u001b[38;5;124m'\u001b[39m\u001b[38;5;124mWhite\u001b[39m\u001b[38;5;124m'\u001b[39m, width\u001b[38;5;241m=\u001b[39m\u001b[38;5;241m50\u001b[39m, pady\u001b[38;5;241m=\u001b[39m\u001b[38;5;241m5\u001b[39m)\u001b[38;5;241m.\u001b[39mpack(pady\u001b[38;5;241m=\u001b[39m\u001b[38;5;241m10\u001b[39m)\n\u001b[0;32m     10\u001b[0m \u001b[38;5;66;03m# Create Frames for Text widgets\u001b[39;00m\n\u001b[0;32m     11\u001b[0m f1 \u001b[38;5;241m=\u001b[39m tk\u001b[38;5;241m.\u001b[39mFrame(root, width\u001b[38;5;241m=\u001b[39m\u001b[38;5;241m320\u001b[39m, height\u001b[38;5;241m=\u001b[39m\u001b[38;5;241m200\u001b[39m, bg\u001b[38;5;241m=\u001b[39m\u001b[38;5;124m'\u001b[39m\u001b[38;5;124mwhite\u001b[39m\u001b[38;5;124m'\u001b[39m, bd\u001b[38;5;241m=\u001b[39m\u001b[38;5;241m5\u001b[39m)\n",
      "\u001b[1;31mNameError\u001b[0m: name 'Label' is not defined"
     ]
    }
   ],
   "source": [
    "# Initialize the main window\n",
    "root = tk.Tk()\n",
    "root.title(\"Language Translation Tool\")\n",
    "root.geometry(\"700x400\")\n",
    "root.config(bg='#D3D3D3')\n",
    "\n",
    "# Title Label\n",
    "Label(root, text=\"Language Translator\", font=('Arial', 20, 'bold'), bg='#8B8B7A', fg='White', width=50, pady=5).pack(pady=10)\n",
    "\n",
    "# Create Frames for Text widgets\n",
    "f1 = tk.Frame(root, width=320, height=200, bg='white', bd=5)\n",
    "f1.place(x=15, y=70)\n",
    "f2 = tk.Frame(root, width=320, height=200, bg='white', bd=5)\n",
    "f2.place(x=360, y=70)\n",
    "\n",
    "# Source text box\n",
    "txt1 = Text(f1, font=('Arial', 12, 'bold'), width=28, height=8)\n",
    "txt1.place(x=0, y=0)\n",
    "\n",
    "# Translated text box\n",
    "txt2 = Text(f2, font=('Arial', 12, 'bold'), width=28, height=8)\n",
    "txt2.place(x=0, y=0)\n",
    "\n",
    "# Combobox for selecting source language\n",
    "c1 = ttk.Combobox(root, values=language_list, font=('Arial', 12, 'bold'), width=20)\n",
    "c1.place(x=60, y=290)\n",
    "c1.set('en')  # Default to English\n",
    "\n",
    "# Combobox for selecting destination language\n",
    "c2 = ttk.Combobox(root, values=language_list, font=('Arial', 12, 'bold'), width=20)\n",
    "c2.place(x=420, y=290)\n",
    "c2.set('es')  # Default to Spanish\n",
    "\n",
    "# Translate button\n",
    "btn = tk.Button(root, text=\"Translate\", font=('Arial', 15, 'bold'), bd=5, bg='#8B8B7A', fg='White', command=trans_late)\n",
    "btn.place(x=290, y=320)\n",
    "\n",
    "# Start the Tkinter main loop\n",
    "root.mainloop()\n"
   ]
  },
  {
   "cell_type": "code",
   "execution_count": 11,
   "metadata": {},
   "outputs": [],
   "source": [
    "# Function to translate text\n",
    "def trans_late():\n",
    "    try:\n",
    "        # Get source text\n",
    "        source_text = txt1.get(\"1.0\", Tk.END).strip()\n",
    "        src_lang = c1.get()\n",
    "        dest_lang = c2.get()\n",
    "\n",
    "        # Clear previous error messages\n",
    "        txt2.delete(\"1.0\", Tk.END)\n",
    "\n",
    "        # Check for empty text or language selections\n",
    "        if not source_text:\n",
    "            txt2.insert(Tk.END, \"Please enter text to translate.\")\n",
    "            return\n",
    "        \n",
    "        if not src_lang or not dest_lang:\n",
    "            txt2.insert(Tk.END, \"Please select both source and destination languages.\")\n",
    "            return\n",
    "        \n",
    "        # Translate text\n",
    "        translated = translator.translate(source_text, src=src_lang, dest=dest_lang)\n",
    "        txt2.insert(Tk.END, translated.text)\n",
    "    except Exception as e:\n",
    "        txt2.insert(Tk.END, f\"Error: {e}\")"
   ]
  },
  {
   "cell_type": "code",
   "execution_count": 3,
   "metadata": {},
   "outputs": [
    {
     "ename": "NameError",
     "evalue": "name 'text' is not defined",
     "output_type": "error",
     "traceback": [
      "\u001b[1;31m---------------------------------------------------------------------------\u001b[0m",
      "\u001b[1;31mNameError\u001b[0m                                 Traceback (most recent call last)",
      "Cell \u001b[1;32mIn[3], line 3\u001b[0m\n\u001b[0;32m      1\u001b[0m language_list \u001b[38;5;241m=\u001b[39m [\u001b[38;5;124m'\u001b[39m\u001b[38;5;124men\u001b[39m\u001b[38;5;124m'\u001b[39m, \u001b[38;5;124m'\u001b[39m\u001b[38;5;124mes\u001b[39m\u001b[38;5;124m'\u001b[39m, \u001b[38;5;124m'\u001b[39m\u001b[38;5;124mfr\u001b[39m\u001b[38;5;124m'\u001b[39m, \u001b[38;5;124m'\u001b[39m\u001b[38;5;124mde\u001b[39m\u001b[38;5;124m'\u001b[39m, \u001b[38;5;124m'\u001b[39m\u001b[38;5;124mit\u001b[39m\u001b[38;5;124m'\u001b[39m, \u001b[38;5;124m'\u001b[39m\u001b[38;5;124mpt\u001b[39m\u001b[38;5;124m'\u001b[39m, \u001b[38;5;124m'\u001b[39m\u001b[38;5;124mru\u001b[39m\u001b[38;5;124m'\u001b[39m, \u001b[38;5;124m'\u001b[39m\u001b[38;5;124mzh-cn\u001b[39m\u001b[38;5;124m'\u001b[39m]\n\u001b[1;32m----> 3\u001b[0m txt1\u001b[38;5;241m=\u001b[39m\u001b[43mtext\u001b[49m(f1,font\u001b[38;5;241m=\u001b[39m(\u001b[38;5;124m'\u001b[39m\u001b[38;5;124mArial,bold\u001b[39m\u001b[38;5;124m'\u001b[39m), width\u001b[38;5;241m=\u001b[39m\u001b[38;5;241m28\u001b[39m, height\u001b[38;5;241m=\u001b[39m\u001b[38;5;241m8\u001b[39m)\n\u001b[0;32m      4\u001b[0m txt1\u001b[38;5;241m.\u001b[39mplace(x\u001b[38;5;241m=\u001b[39m\u001b[38;5;241m0\u001b[39m,y\u001b[38;5;241m=\u001b[39m\u001b[38;5;241m0\u001b[39m)\n\u001b[0;32m      5\u001b[0m txt2\u001b[38;5;241m=\u001b[39mtext(f2,font\u001b[38;5;241m=\u001b[39m(\u001b[38;5;124m'\u001b[39m\u001b[38;5;124mArial,bold\u001b[39m\u001b[38;5;124m'\u001b[39m), width\u001b[38;5;241m=\u001b[39m\u001b[38;5;241m28\u001b[39m, height\u001b[38;5;241m=\u001b[39m\u001b[38;5;241m8\u001b[39m)\n",
      "\u001b[1;31mNameError\u001b[0m: name 'text' is not defined"
     ]
    }
   ],
   "source": [
    "language_list = ['en', 'es', 'fr', 'de', 'it', 'pt', 'ru', 'zh-cn']\n",
    "\n",
    "txt1=text(f1,font=('Arial,bold'), width=28, height=8)\n",
    "txt1.place(x=0,y=0)\n",
    "txt2=text(f2,font=('Arial,bold'), width=28, height=8)\n",
    "txt2.place(x=0,y=0)\n",
    "\n",
    "\n",
    "c1=ttk.Combobox(root,values=language_list,font=('Arial,bold',12),width=20)\n",
    "c1.place(x=60,y=290)\n",
    "c2=ttk.Combobox(root,values=language_list,font=('Arial,bold',12),width=20)\n",
    "c2.place(x=420,y=290)\n",
    "\n",
    "\n",
    "btn=Button(root,text=\"Translate\",font=('Arial,bold',15),bd=5, bg='#8B8B7A',fg='White',command=trans_late)\n",
    "btn.place(x=290,y=320)\n",
    "\n",
    "\n",
    "root.mainloop()"
   ]
  },
  {
   "cell_type": "code",
   "execution_count": 19,
   "metadata": {},
   "outputs": [
    {
     "ename": "IndentationError",
     "evalue": "unindent does not match any outer indentation level (<string>, line 17)",
     "output_type": "error",
     "traceback": [
      "\u001b[1;36m  File \u001b[1;32m<string>:17\u001b[1;36m\u001b[0m\n\u001b[1;33m    except Exception as e:\u001b[0m\n\u001b[1;37m                          ^\u001b[0m\n\u001b[1;31mIndentationError\u001b[0m\u001b[1;31m:\u001b[0m unindent does not match any outer indentation level\n"
     ]
    }
   ],
   "source": [
    "def trans_late():\n",
    "   txt2.delete(1.0, END)\n",
    "   try:\n",
    "       for key, value in languages.items():\n",
    "           if(value == c1.get()):\n",
    "               from_language_key = key\n",
    "       for key, value in languages.items():\n",
    "           if(value == c2.get()):\n",
    "               to_language_key = key\n",
    "\n",
    "\n",
    "       words = textblob.TextBlob(txt1.get(1.0, END))\n",
    "       words = words.translate(from_lang=from_language_key, to=to_language_key)\n",
    "       txt2.insert(1.0, words):\n",
    "       \n",
    "       \n",
    "    except Exception as e:\n",
    "         messagebox.showerror((\"Translater\", e))"
   ]
  },
  {
   "cell_type": "code",
   "execution_count": 22,
   "metadata": {},
   "outputs": [
    {
     "ename": "TclError",
     "evalue": "expected integer but got \"bold\"",
     "output_type": "error",
     "traceback": [
      "\u001b[1;31m---------------------------------------------------------------------------\u001b[0m",
      "\u001b[1;31mTclError\u001b[0m                                  Traceback (most recent call last)",
      "Cell \u001b[1;32mIn[22], line 45\u001b[0m\n\u001b[0;32m     42\u001b[0m f2\u001b[38;5;241m.\u001b[39mplace(x\u001b[38;5;241m=\u001b[39m\u001b[38;5;241m320\u001b[39m, y\u001b[38;5;241m=\u001b[39m\u001b[38;5;241m20\u001b[39m)\n\u001b[0;32m     44\u001b[0m \u001b[38;5;66;03m# Source text box\u001b[39;00m\n\u001b[1;32m---> 45\u001b[0m txt1 \u001b[38;5;241m=\u001b[39m \u001b[43mText\u001b[49m\u001b[43m(\u001b[49m\u001b[43mf1\u001b[49m\u001b[43m,\u001b[49m\u001b[43m \u001b[49m\u001b[43mfont\u001b[49m\u001b[38;5;241;43m=\u001b[39;49m\u001b[43m(\u001b[49m\u001b[38;5;124;43m'\u001b[39;49m\u001b[38;5;124;43mArial\u001b[39;49m\u001b[38;5;124;43m'\u001b[39;49m\u001b[43m,\u001b[49m\u001b[43m \u001b[49m\u001b[38;5;124;43m'\u001b[39;49m\u001b[38;5;124;43mbold\u001b[39;49m\u001b[38;5;124;43m'\u001b[39;49m\u001b[43m)\u001b[49m\u001b[43m,\u001b[49m\u001b[43m \u001b[49m\u001b[43mwidth\u001b[49m\u001b[38;5;241;43m=\u001b[39;49m\u001b[38;5;241;43m28\u001b[39;49m\u001b[43m,\u001b[49m\u001b[43m \u001b[49m\u001b[43mheight\u001b[49m\u001b[38;5;241;43m=\u001b[39;49m\u001b[38;5;241;43m8\u001b[39;49m\u001b[43m)\u001b[49m\n\u001b[0;32m     46\u001b[0m txt1\u001b[38;5;241m.\u001b[39mpack()\n\u001b[0;32m     48\u001b[0m \u001b[38;5;66;03m# Translated text box\u001b[39;00m\n",
      "File \u001b[1;32mc:\\Users\\Dines\\AppData\\Local\\Programs\\Python\\Python312\\Lib\\tkinter\\__init__.py:3658\u001b[0m, in \u001b[0;36mText.__init__\u001b[1;34m(self, master, cnf, **kw)\u001b[0m\n\u001b[0;32m   3635\u001b[0m \u001b[38;5;28;01mdef\u001b[39;00m \u001b[38;5;21m__init__\u001b[39m(\u001b[38;5;28mself\u001b[39m, master\u001b[38;5;241m=\u001b[39m\u001b[38;5;28;01mNone\u001b[39;00m, cnf\u001b[38;5;241m=\u001b[39m{}, \u001b[38;5;241m*\u001b[39m\u001b[38;5;241m*\u001b[39mkw):\n\u001b[0;32m   3636\u001b[0m \u001b[38;5;250m    \u001b[39m\u001b[38;5;124;03m\"\"\"Construct a text widget with the parent MASTER.\u001b[39;00m\n\u001b[0;32m   3637\u001b[0m \n\u001b[0;32m   3638\u001b[0m \u001b[38;5;124;03m    STANDARD OPTIONS\u001b[39;00m\n\u001b[1;32m   (...)\u001b[0m\n\u001b[0;32m   3656\u001b[0m \n\u001b[0;32m   3657\u001b[0m \u001b[38;5;124;03m    \"\"\"\u001b[39;00m\n\u001b[1;32m-> 3658\u001b[0m     \u001b[43mWidget\u001b[49m\u001b[38;5;241;43m.\u001b[39;49m\u001b[38;5;21;43m__init__\u001b[39;49m\u001b[43m(\u001b[49m\u001b[38;5;28;43mself\u001b[39;49m\u001b[43m,\u001b[49m\u001b[43m \u001b[49m\u001b[43mmaster\u001b[49m\u001b[43m,\u001b[49m\u001b[43m \u001b[49m\u001b[38;5;124;43m'\u001b[39;49m\u001b[38;5;124;43mtext\u001b[39;49m\u001b[38;5;124;43m'\u001b[39;49m\u001b[43m,\u001b[49m\u001b[43m \u001b[49m\u001b[43mcnf\u001b[49m\u001b[43m,\u001b[49m\u001b[43m \u001b[49m\u001b[43mkw\u001b[49m\u001b[43m)\u001b[49m\n",
      "File \u001b[1;32mc:\\Users\\Dines\\AppData\\Local\\Programs\\Python\\Python312\\Lib\\tkinter\\__init__.py:2659\u001b[0m, in \u001b[0;36mBaseWidget.__init__\u001b[1;34m(self, master, widgetName, cnf, kw, extra)\u001b[0m\n\u001b[0;32m   2657\u001b[0m \u001b[38;5;28;01mfor\u001b[39;00m k, v \u001b[38;5;129;01min\u001b[39;00m classes:\n\u001b[0;32m   2658\u001b[0m     \u001b[38;5;28;01mdel\u001b[39;00m cnf[k]\n\u001b[1;32m-> 2659\u001b[0m \u001b[38;5;28;43mself\u001b[39;49m\u001b[38;5;241;43m.\u001b[39;49m\u001b[43mtk\u001b[49m\u001b[38;5;241;43m.\u001b[39;49m\u001b[43mcall\u001b[49m\u001b[43m(\u001b[49m\n\u001b[0;32m   2660\u001b[0m \u001b[43m    \u001b[49m\u001b[43m(\u001b[49m\u001b[43mwidgetName\u001b[49m\u001b[43m,\u001b[49m\u001b[43m \u001b[49m\u001b[38;5;28;43mself\u001b[39;49m\u001b[38;5;241;43m.\u001b[39;49m\u001b[43m_w\u001b[49m\u001b[43m)\u001b[49m\u001b[43m \u001b[49m\u001b[38;5;241;43m+\u001b[39;49m\u001b[43m \u001b[49m\u001b[43mextra\u001b[49m\u001b[43m \u001b[49m\u001b[38;5;241;43m+\u001b[39;49m\u001b[43m \u001b[49m\u001b[38;5;28;43mself\u001b[39;49m\u001b[38;5;241;43m.\u001b[39;49m\u001b[43m_options\u001b[49m\u001b[43m(\u001b[49m\u001b[43mcnf\u001b[49m\u001b[43m)\u001b[49m\u001b[43m)\u001b[49m\n\u001b[0;32m   2661\u001b[0m \u001b[38;5;28;01mfor\u001b[39;00m k, v \u001b[38;5;129;01min\u001b[39;00m classes:\n\u001b[0;32m   2662\u001b[0m     k\u001b[38;5;241m.\u001b[39mconfigure(\u001b[38;5;28mself\u001b[39m, v)\n",
      "\u001b[1;31mTclError\u001b[0m: expected integer but got \"bold\""
     ]
    }
   ],
   "source": [
    "import tkinter as tk\n",
    "from tkinter import ttk, Text\n",
    "from googletrans import Translator\n",
    "\n",
    "# Initialize the main window\n",
    "root = tk.Tk()\n",
    "root.title(\"Language Translation Tool\")\n",
    "root.geometry(\"600x400\")\n",
    "\n",
    "# Sample language list (ISO-639-1 language codes)\n",
    "language_list = ['en', 'es', 'fr', 'de', 'it', 'pt', 'ru', 'zh-cn']  # Example list\n",
    "\n",
    "# Initialize Translator\n",
    "translator = Translator()\n",
    "\n",
    "# Function to translate text\n",
    "def trans_late():\n",
    "    try:\n",
    "        source_text = txt1.get(\"1.0\", tk.END).strip()\n",
    "        src_lang = c1.get()\n",
    "        dest_lang = c2.get()\n",
    "        \n",
    "        if not source_text:\n",
    "            txt2.insert(tk.END, \"Please enter text to translate.\")\n",
    "            return\n",
    "        \n",
    "        if not src_lang or not dest_lang:\n",
    "            txt2.insert(tk.END, \"Please select both source and destination languages.\")\n",
    "            return\n",
    "        \n",
    "        translated = translator.translate(source_text, src=src_lang, dest=dest_lang)\n",
    "        txt2.delete(\"1.0\", tk.END)\n",
    "        txt2.insert(tk.END, translated.text)\n",
    "    except Exception as e:\n",
    "        txt2.delete(\"1.0\", tk.END)\n",
    "        txt2.insert(tk.END, f\"Error: {e}\")\n",
    "\n",
    "# Create Frames for Text widgets\n",
    "f1 = tk.Frame(root)\n",
    "f1.place(x=20, y=20)\n",
    "f2 = tk.Frame(root)\n",
    "f2.place(x=320, y=20)\n",
    "\n",
    "# Source text box\n",
    "txt1 = Text(f1, font=('Arial', 'bold'), width=28, height=8)\n",
    "txt1.pack()\n",
    "\n",
    "# Translated text box\n",
    "txt2 = Text(f2, font=('Arial', 'bold'), width=28, height=8)\n",
    "txt2.pack()\n",
    "\n",
    "# Combobox for selecting source language\n",
    "c1 = ttk.Combobox(root, values=language_list, font=('Arial', 'bold', 12), width=20)\n",
    "c1.place(x=60, y=290)\n",
    "c1.set('Select Source Language')\n",
    "\n",
    "# Combobox for selecting destination language\n",
    "c2 = ttk.Combobox(root, values=language_list, font=('Arial', 'bold', 12), width=20)\n",
    "c2.place(x=420, y=290)\n",
    "c2.set('Select Destination Language')\n",
    "\n",
    "# Translate button\n",
    "btn = tk.Button(root, text=\"Translate\", font=('Arial', 'bold', 15), bd=5, bg='#8B8B7A', fg='White', command=trans_late)\n",
    "btn.place(x=250, y=350)\n",
    "\n",
    "# Start the Tkinter main loop\n",
    "root.mainloop()\n"
   ]
  }
 ],
 "metadata": {
  "kernelspec": {
   "display_name": "Python 3",
   "language": "python",
   "name": "python3"
  },
  "language_info": {
   "codemirror_mode": {
    "name": "ipython",
    "version": 3
   },
   "file_extension": ".py",
   "mimetype": "text/x-python",
   "name": "python",
   "nbconvert_exporter": "python",
   "pygments_lexer": "ipython3",
   "version": "3.12.4"
  }
 },
 "nbformat": 4,
 "nbformat_minor": 2
}
