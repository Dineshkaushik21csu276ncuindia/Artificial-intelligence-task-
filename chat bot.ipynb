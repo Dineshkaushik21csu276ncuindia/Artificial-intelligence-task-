{
 "cells": [
  {
   "cell_type": "code",
   "execution_count": 1,
   "metadata": {},
   "outputs": [
    {
     "name": "stderr",
     "output_type": "stream",
     "text": [
      "[nltk_data] Downloading package punkt to\n",
      "[nltk_data]     C:\\Users\\Dines\\AppData\\Roaming\\nltk_data...\n",
      "[nltk_data]   Unzipping tokenizers\\punkt.zip.\n",
      "[nltk_data] Downloading package stopwords to\n",
      "[nltk_data]     C:\\Users\\Dines\\AppData\\Roaming\\nltk_data...\n",
      "[nltk_data]   Unzipping corpora\\stopwords.zip.\n",
      "[nltk_data] Downloading package wordnet to\n",
      "[nltk_data]     C:\\Users\\Dines\\AppData\\Roaming\\nltk_data...\n"
     ]
    },
    {
     "name": "stdout",
     "output_type": "stream",
     "text": [
      "Welcome to FAQ Chatbot. Ask me anything!\n",
      "Chatbot: Sorry, I don't understand your question.\n",
      "Chatbot: Sorry, I don't understand your question.\n",
      "Chatbot: Sorry, I don't understand your question.\n",
      "Chatbot: Sorry, I don't understand your question.\n",
      "Chatbot: Sorry, I don't understand your question.\n",
      "Chatbot: Sorry, I don't understand your question.\n",
      "Chatbot: Sorry, I don't understand your question.\n",
      "Chatbot: Our product is designed to help with...\n",
      "Chatbot: Our product is designed to help with...\n",
      "Chatbot: Our product is designed to help with...\n",
      "Chatbot: Our product is designed to help with...\n",
      "Chatbot: Our product is designed to help with...\n",
      "Chatbot: Our product is designed to help with...\n",
      "Chatbot: Our product is designed to help with...\n",
      "Chatbot: Our product is designed to help with...\n"
     ]
    }
   ],
   "source": [
    "import nltk\n",
    "from nltk.tokenize import word_tokenize\n",
    "from nltk.corpus import stopwords\n",
    "from nltk.stem import WordNetLemmatizer\n",
    "import string\n",
    "\n",
    "# Initialize NLTK resources\n",
    "nltk.download('punkt')\n",
    "nltk.download('stopwords')\n",
    "nltk.download('wordnet')\n",
    "\n",
    "# Predefined FAQs and responses\n",
    "faqs = {\n",
    "    \"What is your product?\": \"Our product is designed to help with...\",\n",
    "    \"How can I contact support?\": \"You can reach our support team at support@example.com.\",\n",
    "    \"Do you offer refunds?\": \"Yes, we offer a 30-day money-back guarantee.\",\n",
    "    # Add more FAQs and responses as needed\n",
    "}\n",
    "\n",
    "# Function to preprocess user input\n",
    "def preprocess(text):\n",
    "    # Tokenization\n",
    "    tokens = word_tokenize(text.lower())\n",
    "    # Remove punctuation and stopwords\n",
    "    tokens = [token for token in tokens if token not in string.punctuation and token not in stopwords.words('english')]\n",
    "    # Lemmatization\n",
    "    lemmatizer = WordNetLemmatizer()\n",
    "    tokens = [lemmatizer.lemmatize(token) for token in tokens]\n",
    "    return tokens\n",
    "\n",
    "# Function to generate response\n",
    "def generate_response(user_input):\n",
    "    # Preprocess user input\n",
    "    tokens = preprocess(user_input)\n",
    "    # Check for matching question in FAQs\n",
    "    for question, answer in faqs.items():\n",
    "        if all(token in question.lower() for token in tokens):\n",
    "            return answer\n",
    "    return \"Sorry, I don't understand your question.\"\n",
    "\n",
    "# Main loop to interact with the user\n",
    "def main():\n",
    "    print(\"Welcome to FAQ Chatbot. Ask me anything!\")\n",
    "    while True:\n",
    "        user_input = input(\"You: \")\n",
    "        if user_input.lower() == 'exit':\n",
    "            break\n",
    "        response = generate_response(user_input)\n",
    "        print(\"Chatbot:\", response)\n",
    "\n",
    "if __name__ == \"__main__\":\n",
    "    main()\n"
   ]
  }
 ],
 "metadata": {
  "kernelspec": {
   "display_name": "Python 3",
   "language": "python",
   "name": "python3"
  },
  "language_info": {
   "codemirror_mode": {
    "name": "ipython",
    "version": 3
   },
   "file_extension": ".py",
   "mimetype": "text/x-python",
   "name": "python",
   "nbconvert_exporter": "python",
   "pygments_lexer": "ipython3",
   "version": "3.12.4"
  }
 },
 "nbformat": 4,
 "nbformat_minor": 2
}
